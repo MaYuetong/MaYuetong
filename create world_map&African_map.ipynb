{
  "nbformat": 4,
  "nbformat_minor": 0,
  "metadata": {
    "colab": {
      "provenance": [],
      "mount_file_id": "1iOC-KScbSMtIX-6_7FGOEaJUwE9BIsNe",
      "authorship_tag": "ABX9TyOXpVL1EdVv5Qw31cpitcyE",
      "include_colab_link": true
    },
    "kernelspec": {
      "name": "python3",
      "display_name": "Python 3"
    },
    "language_info": {
      "name": "python"
    }
  },
  "cells": [
    {
      "cell_type": "markdown",
      "metadata": {
        "id": "view-in-github",
        "colab_type": "text"
      },
      "source": [
        "<a href=\"https://colab.research.google.com/github/MaYuetong/MaYuetong/blob/main/create%20world_map%26African_map.ipynb\" target=\"_parent\"><img src=\"https://colab.research.google.com/assets/colab-badge.svg\" alt=\"Open In Colab\"/></a>"
      ]
    },
    {
      "cell_type": "code",
      "execution_count": 7,
      "metadata": {
        "colab": {
          "base_uri": "https://localhost:8080/"
        },
        "id": "t08ypuF9i46R",
        "outputId": "3ca91409-db28-4589-9729-07aab078c515"
      },
      "outputs": [
        {
          "output_type": "stream",
          "name": "stdout",
          "text": [
            "Drive already mounted at /content/drive; to attempt to forcibly remount, call drive.mount(\"/content/drive\", force_remount=True).\n"
          ]
        }
      ],
      "source": [
        "#this is for creating world map in level 0(level country) and African map in level 1 (level privince)\n",
        "\n",
        "from google.colab import drive\n",
        "drive.mount('/content/drive')\n",
        "import geopandas as gpd\n",
        "import pandas as pd\n",
        "import os\n",
        "import matplotlib.pyplot as plt"
      ]
    },
    {
      "cell_type": "code",
      "source": [
        "!pip install pygadm\n",
        "# 导入pygadm库\n",
        "import pygadm\n",
        "\n"
      ],
      "metadata": {
        "colab": {
          "base_uri": "https://localhost:8080/"
        },
        "id": "G2e7Zoo-j96l",
        "outputId": "d3e5dfd1-7dad-4a74-b519-1b88bdd62c0e"
      },
      "execution_count": 3,
      "outputs": [
        {
          "output_type": "stream",
          "name": "stdout",
          "text": [
            "Collecting pygadm\n",
            "  Downloading pygadm-0.5.2-py3-none-any.whl (5.6 MB)\n",
            "\u001b[2K     \u001b[90m━━━━━━━━━━━━━━━━━━━━━━━━━━━━━━━━━━━━━━━━\u001b[0m \u001b[32m5.6/5.6 MB\u001b[0m \u001b[31m11.8 MB/s\u001b[0m eta \u001b[36m0:00:00\u001b[0m\n",
            "\u001b[?25hCollecting deprecated>=1.2.14 (from pygadm)\n",
            "  Downloading Deprecated-1.2.14-py2.py3-none-any.whl (9.6 kB)\n",
            "Requirement already satisfied: geopandas in /usr/local/lib/python3.10/dist-packages (from pygadm) (0.13.2)\n",
            "Requirement already satisfied: pyarrow in /usr/local/lib/python3.10/dist-packages (from pygadm) (14.0.2)\n",
            "Collecting requests-cache (from pygadm)\n",
            "  Downloading requests_cache-1.2.0-py3-none-any.whl (61 kB)\n",
            "\u001b[2K     \u001b[90m━━━━━━━━━━━━━━━━━━━━━━━━━━━━━━━━━━━━━━━━\u001b[0m \u001b[32m61.4/61.4 kB\u001b[0m \u001b[31m5.3 MB/s\u001b[0m eta \u001b[36m0:00:00\u001b[0m\n",
            "\u001b[?25hRequirement already satisfied: wrapt<2,>=1.10 in /usr/local/lib/python3.10/dist-packages (from deprecated>=1.2.14->pygadm) (1.14.1)\n",
            "Requirement already satisfied: fiona>=1.8.19 in /usr/local/lib/python3.10/dist-packages (from geopandas->pygadm) (1.9.6)\n",
            "Requirement already satisfied: packaging in /usr/local/lib/python3.10/dist-packages (from geopandas->pygadm) (24.0)\n",
            "Requirement already satisfied: pandas>=1.1.0 in /usr/local/lib/python3.10/dist-packages (from geopandas->pygadm) (2.0.3)\n",
            "Requirement already satisfied: pyproj>=3.0.1 in /usr/local/lib/python3.10/dist-packages (from geopandas->pygadm) (3.6.1)\n",
            "Requirement already satisfied: shapely>=1.7.1 in /usr/local/lib/python3.10/dist-packages (from geopandas->pygadm) (2.0.3)\n",
            "Requirement already satisfied: numpy>=1.16.6 in /usr/local/lib/python3.10/dist-packages (from pyarrow->pygadm) (1.25.2)\n",
            "Requirement already satisfied: attrs>=21.2 in /usr/local/lib/python3.10/dist-packages (from requests-cache->pygadm) (23.2.0)\n",
            "Collecting cattrs>=22.2 (from requests-cache->pygadm)\n",
            "  Downloading cattrs-23.2.3-py3-none-any.whl (57 kB)\n",
            "\u001b[2K     \u001b[90m━━━━━━━━━━━━━━━━━━━━━━━━━━━━━━━━━━━━━━━━\u001b[0m \u001b[32m57.5/57.5 kB\u001b[0m \u001b[31m5.7 MB/s\u001b[0m eta \u001b[36m0:00:00\u001b[0m\n",
            "\u001b[?25hRequirement already satisfied: platformdirs>=2.5 in /usr/local/lib/python3.10/dist-packages (from requests-cache->pygadm) (4.2.0)\n",
            "Requirement already satisfied: requests>=2.22 in /usr/local/lib/python3.10/dist-packages (from requests-cache->pygadm) (2.31.0)\n",
            "Collecting url-normalize>=1.4 (from requests-cache->pygadm)\n",
            "  Downloading url_normalize-1.4.3-py2.py3-none-any.whl (6.8 kB)\n",
            "Requirement already satisfied: urllib3>=1.25.5 in /usr/local/lib/python3.10/dist-packages (from requests-cache->pygadm) (2.0.7)\n",
            "Requirement already satisfied: exceptiongroup>=1.1.1 in /usr/local/lib/python3.10/dist-packages (from cattrs>=22.2->requests-cache->pygadm) (1.2.0)\n",
            "Requirement already satisfied: typing-extensions!=4.6.3,>=4.1.0 in /usr/local/lib/python3.10/dist-packages (from cattrs>=22.2->requests-cache->pygadm) (4.10.0)\n",
            "Requirement already satisfied: certifi in /usr/local/lib/python3.10/dist-packages (from fiona>=1.8.19->geopandas->pygadm) (2024.2.2)\n",
            "Requirement already satisfied: click~=8.0 in /usr/local/lib/python3.10/dist-packages (from fiona>=1.8.19->geopandas->pygadm) (8.1.7)\n",
            "Requirement already satisfied: click-plugins>=1.0 in /usr/local/lib/python3.10/dist-packages (from fiona>=1.8.19->geopandas->pygadm) (1.1.1)\n",
            "Requirement already satisfied: cligj>=0.5 in /usr/local/lib/python3.10/dist-packages (from fiona>=1.8.19->geopandas->pygadm) (0.7.2)\n",
            "Requirement already satisfied: six in /usr/local/lib/python3.10/dist-packages (from fiona>=1.8.19->geopandas->pygadm) (1.16.0)\n",
            "Requirement already satisfied: python-dateutil>=2.8.2 in /usr/local/lib/python3.10/dist-packages (from pandas>=1.1.0->geopandas->pygadm) (2.8.2)\n",
            "Requirement already satisfied: pytz>=2020.1 in /usr/local/lib/python3.10/dist-packages (from pandas>=1.1.0->geopandas->pygadm) (2023.4)\n",
            "Requirement already satisfied: tzdata>=2022.1 in /usr/local/lib/python3.10/dist-packages (from pandas>=1.1.0->geopandas->pygadm) (2024.1)\n",
            "Requirement already satisfied: charset-normalizer<4,>=2 in /usr/local/lib/python3.10/dist-packages (from requests>=2.22->requests-cache->pygadm) (3.3.2)\n",
            "Requirement already satisfied: idna<4,>=2.5 in /usr/local/lib/python3.10/dist-packages (from requests>=2.22->requests-cache->pygadm) (3.6)\n",
            "Installing collected packages: url-normalize, deprecated, cattrs, requests-cache, pygadm\n",
            "Successfully installed cattrs-23.2.3 deprecated-1.2.14 pygadm-0.5.2 requests-cache-1.2.0 url-normalize-1.4.3\n"
          ]
        }
      ]
    },
    {
      "cell_type": "code",
      "source": [
        "\n",
        "\n",
        "def merge_and_visualize_geojsons(directory, output_directory, level, africa_only=False):\n",
        "    \"\"\"\n",
        "    合并指定目录下的GeoJSON文件，并可视化合并后的地图。\n",
        "\n",
        "    :param directory: GeoJSON文件的源目录。\n",
        "    :param output_directory: 合并后的GeoJSON文件的保存目录。\n",
        "    :param level: 要合并的GeoJSON的级别（例如，0、1或2）。\n",
        "    :param africa_only: 是否只合并非洲国家的GeoJSON文件。\n",
        "    :return: None\n",
        "    \"\"\"\n",
        "    africa_iso_codes = ['DZA', 'AGO', 'BEN', 'BWA', 'BFA', 'BDI', 'CPV', 'CMR', 'CAF', 'TCD', 'COM', 'COD', 'COG', 'CIV', 'DJI', 'EGY', 'GNQ', 'ERI', 'SWZ', 'ETH', 'GAB', 'GMB', 'GHA', 'GIN', 'GNB', 'KEN', 'LSO', 'LBR', 'LBY', 'MDG', 'MWI', 'MLI', 'MRT', 'MUS', 'MYT', 'MAR', 'MOZ', 'NAM', 'NER', 'NGA', 'REU', 'RWA', 'SHN', 'STP', 'SEN', 'SYC', 'SLE', 'SOM', 'ZAF', 'SSD', 'SDN', 'TZA', 'TGO', 'TUN', 'UGA', 'ZMB', 'ZWE']\n",
        "    geojsons = []\n",
        "\n",
        "    for filename in os.listdir(directory):\n",
        "        if filename.endswith('.json') and '_' in filename:\n",
        "            parts = filename.split('_')\n",
        "            if len(parts) == 3:  # Ensure filename follows expected format\n",
        "                _, iso_code, file_level_part = parts\n",
        "                file_level = file_level_part.split('.')[0]  # Remove .json extension to extract level\n",
        "                if file_level == str(level) and (not africa_only or (iso_code in africa_iso_codes)):\n",
        "                    file_path = os.path.join(directory, filename)\n",
        "                    gdf = gpd.read_file(file_path)\n",
        "                    geojsons.append(gdf)\n",
        "\n",
        "    if geojsons:  # Check if the list is not empty\n",
        "        merged_gdf = pd.concat(geojsons, ignore_index=True)\n",
        "        output_filename = f'merged_level{level}{\"_africa\" if africa_only else \"\"}.json'\n",
        "        output_path = os.path.join(output_directory, output_filename)\n",
        "        merged_gdf.to_file(output_path, driver='GeoJSON')\n",
        "        print(f'Merged GeoJSON saved to {output_path}')\n",
        "\n",
        "        # 可视化合并后的GeoDataFrame\n",
        "        merged_gdf.plot(figsize=(10, 10))\n",
        "        plt.title(f'Merged GeoJSON Map Level {level}{\" - Africa Only\" if africa_only else \"\"}')\n",
        "        plt.show()\n",
        "    else:\n",
        "        print(\"No GeoJSON files matched the criteria.\")\n",
        "\n",
        "# 使用示例\n",
        "directory = '/content/drive/MyDrive/animal/ALL_JSON_gadm4.1'\n",
        "output_directory = '/content/drive/MyDrive/animal'\n",
        "\n",
        "# 生成并可视化地图\n",
        "merge_and_visualize_geojsons(directory, output_directory, 0)\n",
        "merge_and_visualize_geojsons(directory, output_directory, 1, africa_only=True)\n"
      ],
      "metadata": {
        "id": "FosXMbhkosFY"
      },
      "execution_count": null,
      "outputs": []
    }
  ]
}